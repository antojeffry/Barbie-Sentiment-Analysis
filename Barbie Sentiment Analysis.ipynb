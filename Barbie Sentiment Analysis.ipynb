{
 "cells": [
  {
   "cell_type": "markdown",
   "id": "d3edf8b5",
   "metadata": {},
   "source": [
    "# <font color=\"#FF69B4\">**Sentiment Analysis of Barbie movie reviews from IMDB**</font>\n"
   ]
  },
  {
   "cell_type": "markdown",
   "id": "e0c15513",
   "metadata": {},
   "source": [
    "<img src=\"Img/barbie website.png\" width=\"800\" />"
   ]
  },
  {
   "cell_type": "markdown",
   "id": "b9c12b94",
   "metadata": {},
   "source": [
    "Note: Each time you run this notebook, you will get different updated datasets as the reviews keep adding up"
   ]
  },
  {
   "cell_type": "markdown",
   "id": "d6268db2",
   "metadata": {},
   "source": [
    "**Link for oppenheimer sentiment analysis:** https://github.com/antojeffry/Oppenheimer-Sentiment-Analysis"
   ]
  },
  {
   "cell_type": "markdown",
   "id": "da000685",
   "metadata": {},
   "source": [
    "**Scraping the reviews from the imdb website for Barbie movie**"
   ]
  },
  {
   "cell_type": "markdown",
   "id": "904be849",
   "metadata": {},
   "source": [
    "Importing the librarires for web scraping"
   ]
  },
  {
   "cell_type": "code",
   "execution_count": 1,
   "id": "127ce92e",
   "metadata": {},
   "outputs": [],
   "source": [
    "import time\n",
    "import csv\n",
    "from selenium import webdriver\n",
    "from selenium.webdriver.common.by import By\n",
    "from selenium.webdriver.support.ui import WebDriverWait\n",
    "from selenium.webdriver.support import expected_conditions as EC"
   ]
  },
  {
   "cell_type": "code",
   "execution_count": 2,
   "id": "2aa5def8",
   "metadata": {},
   "outputs": [],
   "source": [
    "# Set up Chrome WebDriver\n",
    "driver = webdriver.Chrome()\n",
    "\n",
    "url = \"https://www.imdb.com/title/tt1517268/reviews?ref_=tt_urv\"\n",
    "driver.get(url)"
   ]
  },
  {
   "cell_type": "markdown",
   "id": "39c42e34",
   "metadata": {},
   "source": [
    "**Since all the reviews are only seen when the load more button is clicked, we are going to automate the process using selenium ChromeWebdriver**"
   ]
  },
  {
   "cell_type": "code",
   "execution_count": 3,
   "id": "7639899e",
   "metadata": {},
   "outputs": [],
   "source": [
    "# Wait for the page to load and the \"Load More\" button to become clickable\n",
    "wait = WebDriverWait(driver, 10)\n",
    "\n",
    "# Scroll down the page and wait for new reviews to load\n",
    "while True:\n",
    "    try:\n",
    "        load_more_button = wait.until(EC.element_to_be_clickable((By.CLASS_NAME, \"ipl-load-more__button\")))\n",
    "        driver.execute_script(\"arguments[0].scrollIntoView();\", load_more_button)\n",
    "        load_more_button.click()\n",
    "        time.sleep(2)  # Allow time for new reviews to load\n",
    "    except Exception:\n",
    "        break\n",
    "\n",
    "# Extract all the reviews\n",
    "reviews = driver.find_elements(By.CSS_SELECTOR, \".lister-item-content .text.show-more__control\")\n",
    "\n",
    "# Save the reviews to a CSV file\n",
    "with open(\"Barbie_reviews.csv\", mode=\"w\", encoding=\"utf-8\", newline=\"\") as file:\n",
    "    writer = csv.writer(file)\n",
    "    writer.writerow([\"Review\"])\n",
    "\n",
    "    for review in reviews:\n",
    "        review_text = review.text.strip()\n",
    "        writer.writerow([review_text])\n",
    "\n",
    "driver.quit()"
   ]
  },
  {
   "cell_type": "markdown",
   "id": "61d626c8",
   "metadata": {},
   "source": [
    "Importing libraries for Sentiment analysis"
   ]
  },
  {
   "cell_type": "code",
   "execution_count": 4,
   "id": "a83740ae",
   "metadata": {},
   "outputs": [],
   "source": [
    "import pandas as pd\n",
    "import numpy as np\n",
    "import matplotlib.pyplot as plt\n",
    "import seaborn as sns\n",
    "\n",
    "plt.style.use('ggplot')"
   ]
  },
  {
   "cell_type": "code",
   "execution_count": 5,
   "id": "20580e59",
   "metadata": {
    "scrolled": true
   },
   "outputs": [
    {
     "data": {
      "text/html": [
       "<div>\n",
       "<style scoped>\n",
       "    .dataframe tbody tr th:only-of-type {\n",
       "        vertical-align: middle;\n",
       "    }\n",
       "\n",
       "    .dataframe tbody tr th {\n",
       "        vertical-align: top;\n",
       "    }\n",
       "\n",
       "    .dataframe thead th {\n",
       "        text-align: right;\n",
       "    }\n",
       "</style>\n",
       "<table border=\"1\" class=\"dataframe\">\n",
       "  <thead>\n",
       "    <tr style=\"text-align: right;\">\n",
       "      <th></th>\n",
       "      <th>Review</th>\n",
       "    </tr>\n",
       "  </thead>\n",
       "  <tbody>\n",
       "    <tr>\n",
       "      <th>0</th>\n",
       "      <td>I'm just going to get straight to the point: I...</td>\n",
       "    </tr>\n",
       "    <tr>\n",
       "      <th>1</th>\n",
       "      <td>Margot does the best with what she's given, bu...</td>\n",
       "    </tr>\n",
       "    <tr>\n",
       "      <th>2</th>\n",
       "      <td>The first thing you need to know about Barbie ...</td>\n",
       "    </tr>\n",
       "    <tr>\n",
       "      <th>3</th>\n",
       "      <td>NaN</td>\n",
       "    </tr>\n",
       "    <tr>\n",
       "      <th>4</th>\n",
       "      <td>Wow, this movie was a love letter to cinema. F...</td>\n",
       "    </tr>\n",
       "    <tr>\n",
       "      <th>5</th>\n",
       "      <td>NaN</td>\n",
       "    </tr>\n",
       "    <tr>\n",
       "      <th>6</th>\n",
       "      <td>8.5/10 While i'm not so sure at first, the mov...</td>\n",
       "    </tr>\n",
       "    <tr>\n",
       "      <th>7</th>\n",
       "      <td>Barbie begins in an irresistible way, as a fun...</td>\n",
       "    </tr>\n",
       "    <tr>\n",
       "      <th>8</th>\n",
       "      <td>It pains me to say it, but I enjoyed this movi...</td>\n",
       "    </tr>\n",
       "    <tr>\n",
       "      <th>9</th>\n",
       "      <td>NaN</td>\n",
       "    </tr>\n",
       "  </tbody>\n",
       "</table>\n",
       "</div>"
      ],
      "text/plain": [
       "                                              Review\n",
       "0  I'm just going to get straight to the point: I...\n",
       "1  Margot does the best with what she's given, bu...\n",
       "2  The first thing you need to know about Barbie ...\n",
       "3                                                NaN\n",
       "4  Wow, this movie was a love letter to cinema. F...\n",
       "5                                                NaN\n",
       "6  8.5/10 While i'm not so sure at first, the mov...\n",
       "7  Barbie begins in an irresistible way, as a fun...\n",
       "8  It pains me to say it, but I enjoyed this movi...\n",
       "9                                                NaN"
      ]
     },
     "execution_count": 5,
     "metadata": {},
     "output_type": "execute_result"
    }
   ],
   "source": [
    "df = pd.read_csv(\"Barbie_reviews.csv\")\n",
    "df.head(10)"
   ]
  },
  {
   "cell_type": "code",
   "execution_count": 6,
   "id": "2365e66a",
   "metadata": {},
   "outputs": [
    {
     "data": {
      "text/plain": [
       "(874, 1)"
      ]
     },
     "execution_count": 6,
     "metadata": {},
     "output_type": "execute_result"
    }
   ],
   "source": [
    "df.shape"
   ]
  },
  {
   "cell_type": "code",
   "execution_count": 7,
   "id": "680bd4df",
   "metadata": {
    "scrolled": true
   },
   "outputs": [
    {
     "data": {
      "text/plain": [
       "Review    212\n",
       "dtype: int64"
      ]
     },
     "execution_count": 7,
     "metadata": {},
     "output_type": "execute_result"
    }
   ],
   "source": [
    "df.isnull().sum()"
   ]
  },
  {
   "cell_type": "markdown",
   "id": "732f3964",
   "metadata": {},
   "source": [
    "These 212 reviews were redacted by the users because it had spoilers. We can just remove those"
   ]
  },
  {
   "cell_type": "markdown",
   "id": "fe7fa3e9",
   "metadata": {},
   "source": [
    "**Removing null values**"
   ]
  },
  {
   "cell_type": "code",
   "execution_count": 8,
   "id": "1ab20ad5",
   "metadata": {},
   "outputs": [],
   "source": [
    "df=df.dropna()"
   ]
  },
  {
   "cell_type": "code",
   "execution_count": 9,
   "id": "33aec9a1",
   "metadata": {},
   "outputs": [
    {
     "data": {
      "text/plain": [
       "Review    0\n",
       "dtype: int64"
      ]
     },
     "execution_count": 9,
     "metadata": {},
     "output_type": "execute_result"
    }
   ],
   "source": [
    "df.isnull().sum()"
   ]
  },
  {
   "cell_type": "code",
   "execution_count": 10,
   "id": "2f1973cd",
   "metadata": {},
   "outputs": [
    {
     "data": {
      "text/plain": [
       "(662, 1)"
      ]
     },
     "execution_count": 10,
     "metadata": {},
     "output_type": "execute_result"
    }
   ],
   "source": [
    "df.shape"
   ]
  },
  {
   "cell_type": "code",
   "execution_count": 11,
   "id": "357d3e58",
   "metadata": {},
   "outputs": [
    {
     "name": "stdout",
     "output_type": "stream",
     "text": [
      "Empty DataFrame\n",
      "Columns: [Review]\n",
      "Index: []\n"
     ]
    }
   ],
   "source": [
    "dup=df.duplicated()\n",
    "print(df[dup])"
   ]
  },
  {
   "cell_type": "markdown",
   "id": "289c62e6",
   "metadata": {},
   "source": [
    "So there are no duplicates"
   ]
  },
  {
   "cell_type": "code",
   "execution_count": 12,
   "id": "8fabf54f",
   "metadata": {},
   "outputs": [],
   "source": [
    "def clean_review(review):\n",
    "    review = review.replace('\\n', ' ')   # Remove newline characters\n",
    "    review = review.replace('\\\\', '')    # Remove backslash characters\n",
    "    review = review.replace('\\'', '')    # Remove single quotes\n",
    "    return review\n",
    "\n",
    "df['Review'] = df['Review'].apply(clean_review)"
   ]
  },
  {
   "cell_type": "code",
   "execution_count": 13,
   "id": "8f0a15c0",
   "metadata": {
    "scrolled": false
   },
   "outputs": [
    {
     "data": {
      "text/plain": [
       "'It pains me to say it, but I enjoyed this movie so much more then I was expecting to, musical numbers, humour, there truly is something for the whole family yo enjoy.  Bright, garish and somewhat kitsch, those were my expectations, and sure its a veritable cornucopia of glitter and rainbows, but what I wasnt expecting, was for the film to be so engaging, theres actually some real depth that I wasnt expecting. That opening introduction, that came as a major surprise, and pretty much set the tone.  Of course there are plenty of double entendres, laughs that adults will enjoy, kids will no doubt chuckle away too.  Im pretty sure this film is going to win awards for its production, its very well made, creative design and visuals, a lot of thought has gone into this. Greta Gerwig did a great job.  Margot Robbie is glorious as Barbie, Ryan Gosling was great I thought. The pair shared some terrific scenes, real chemistry, and plenty of cutting one liners.  Great use of music, everything fitted into the film so well.  8/10.'"
      ]
     },
     "execution_count": 13,
     "metadata": {},
     "output_type": "execute_result"
    }
   ],
   "source": [
    "example = df['Review'][8]\n",
    "example"
   ]
  },
  {
   "cell_type": "markdown",
   "id": "366796b8",
   "metadata": {},
   "source": [
    "**Now, the text are way better for sentiment analysis**"
   ]
  },
  {
   "cell_type": "markdown",
   "id": "d5999149",
   "metadata": {},
   "source": [
    "# Vader model"
   ]
  },
  {
   "cell_type": "code",
   "execution_count": 14,
   "id": "b324fd4e",
   "metadata": {},
   "outputs": [],
   "source": [
    "from nltk.sentiment import SentimentIntensityAnalyzer\n",
    "from tqdm.notebook import tqdm\n",
    "\n",
    "sia = SentimentIntensityAnalyzer()"
   ]
  },
  {
   "cell_type": "markdown",
   "id": "f198e383",
   "metadata": {},
   "source": [
    "# Note\n",
    "\n",
    "**If the SentimentIntensityAnalyzer() is not working, use the below code, otherwise no need to run this code**"
   ]
  },
  {
   "cell_type": "code",
   "execution_count": null,
   "id": "46f96cad",
   "metadata": {},
   "outputs": [],
   "source": [
    "import nltk\n",
    "import ssl\n",
    "\n",
    "try:\n",
    "    _create_unverified_https_context = ssl._create_unverified_context\n",
    "except AttributeError:\n",
    "    pass\n",
    "else:\n",
    "    ssl._create_default_https_context = _create_unverified_https_context\n",
    "\n",
    "nltk.download()"
   ]
  },
  {
   "cell_type": "code",
   "execution_count": 15,
   "id": "2978bbe1",
   "metadata": {},
   "outputs": [],
   "source": [
    "example=df[\"Review\"][8]"
   ]
  },
  {
   "cell_type": "code",
   "execution_count": 16,
   "id": "5b3b8ea4",
   "metadata": {},
   "outputs": [
    {
     "data": {
      "text/plain": [
       "{'neg': 0.038, 'neu': 0.558, 'pos': 0.404, 'compound': 0.9986}"
      ]
     },
     "execution_count": 16,
     "metadata": {},
     "output_type": "execute_result"
    }
   ],
   "source": [
    "sia.polarity_scores(example)"
   ]
  },
  {
   "cell_type": "markdown",
   "id": "97d4bfb3",
   "metadata": {},
   "source": [
    "**Wow the sentiment of the review by the vader model is good,the compound is near to +1, therefore the review is positive**"
   ]
  },
  {
   "cell_type": "code",
   "execution_count": 17,
   "id": "a46ab05b",
   "metadata": {},
   "outputs": [
    {
     "data": {
      "application/vnd.jupyter.widget-view+json": {
       "model_id": "4e45e798c3b24fb6835d4ba009c23212",
       "version_major": 2,
       "version_minor": 0
      },
      "text/plain": [
       "  0%|          | 0/662 [00:00<?, ?it/s]"
      ]
     },
     "metadata": {},
     "output_type": "display_data"
    }
   ],
   "source": [
    "compound_scores = []\n",
    "positive_scores = []\n",
    "negative_scores = []\n",
    "neutral_scores = []\n",
    "\n",
    "# Iterate through the DataFrame and calculate polarity scores\n",
    "for i, row in tqdm(df.iterrows(), total=len(df)):\n",
    "    text = row['Review']\n",
    "    scores = sia.polarity_scores(text)\n",
    "    compound_scores.append(scores['compound'])\n",
    "    positive_scores.append(scores['pos'])\n",
    "    negative_scores.append(scores['neg'])\n",
    "    neutral_scores.append(scores['neu'])\n",
    "\n",
    "df['V_Compound_Score'] = compound_scores\n",
    "df['V_Positive_Score'] = positive_scores\n",
    "df['V_Negative_Score'] = negative_scores\n",
    "df['V_Neutral_Score'] = neutral_scores"
   ]
  },
  {
   "cell_type": "markdown",
   "id": "a38e20d3",
   "metadata": {},
   "source": [
    "Run the below cell individually to see how well the vader model performs "
   ]
  },
  {
   "cell_type": "code",
   "execution_count": 33,
   "id": "4554dee4",
   "metadata": {
    "scrolled": true
   },
   "outputs": [
    {
     "data": {
      "text/plain": [
       "'The marketing for this movie was incredible, so are actors and the whole setting. Not only does that attract a massive audience, but also seeing the famous doll many grew up with. Unfortunately, once I got into my theather seat the hype begin to wear drown. I can not wrap my mind around all the positive reviews on the script and Greta because the plot of this movie is full of major gaps and unreached points. It dives into politics but can not decide what to do with it so instead runs a couple of pointless monolouges that bring no value or add to the conclusion of the movie whatsoever. Not to mention I found myself consistently unsure of what is happening and why. This movie presents itself as a comedy and the audience was dead quiet throught the whole thing! Kudos to Ryan Gosling whose acting skills might be the highlight of this whole experience even when Ken as a charachter made little to no sense. All this amazing cast and promotion might have been too big of a bite for the directors. It felt like they exploited that in all possible ways in order to cover up a weak plot.'"
      ]
     },
     "execution_count": 33,
     "metadata": {},
     "output_type": "execute_result"
    }
   ],
   "source": [
    "df[\"Review\"][799]"
   ]
  },
  {
   "cell_type": "markdown",
   "id": "8ef4fc1b",
   "metadata": {},
   "source": [
    "By running the cell above with the indexes you want from the model results given below. The sentiment of the reviews are spot on"
   ]
  },
  {
   "cell_type": "code",
   "execution_count": 34,
   "id": "0d43e42c",
   "metadata": {
    "scrolled": true
   },
   "outputs": [
    {
     "data": {
      "text/html": [
       "<div>\n",
       "<style scoped>\n",
       "    .dataframe tbody tr th:only-of-type {\n",
       "        vertical-align: middle;\n",
       "    }\n",
       "\n",
       "    .dataframe tbody tr th {\n",
       "        vertical-align: top;\n",
       "    }\n",
       "\n",
       "    .dataframe thead th {\n",
       "        text-align: right;\n",
       "    }\n",
       "</style>\n",
       "<table border=\"1\" class=\"dataframe\">\n",
       "  <thead>\n",
       "    <tr style=\"text-align: right;\">\n",
       "      <th></th>\n",
       "      <th>Review</th>\n",
       "      <th>V_Compound_Score</th>\n",
       "      <th>V_Positive_Score</th>\n",
       "      <th>V_Negative_Score</th>\n",
       "      <th>V_Neutral_Score</th>\n",
       "    </tr>\n",
       "  </thead>\n",
       "  <tbody>\n",
       "    <tr>\n",
       "      <th>861</th>\n",
       "      <td>Barbie is not carrying any knowledgeable and i...</td>\n",
       "      <td>0.9322</td>\n",
       "      <td>0.147</td>\n",
       "      <td>0.063</td>\n",
       "      <td>0.790</td>\n",
       "    </tr>\n",
       "    <tr>\n",
       "      <th>862</th>\n",
       "      <td>Its true, any other movie wouldve been better....</td>\n",
       "      <td>0.9751</td>\n",
       "      <td>0.226</td>\n",
       "      <td>0.027</td>\n",
       "      <td>0.747</td>\n",
       "    </tr>\n",
       "    <tr>\n",
       "      <th>863</th>\n",
       "      <td>Ill preface by saying the movie is hilarious, ...</td>\n",
       "      <td>0.8279</td>\n",
       "      <td>0.145</td>\n",
       "      <td>0.093</td>\n",
       "      <td>0.763</td>\n",
       "    </tr>\n",
       "    <tr>\n",
       "      <th>864</th>\n",
       "      <td>Really good soundtracks and amazing cast, Marg...</td>\n",
       "      <td>0.9744</td>\n",
       "      <td>0.261</td>\n",
       "      <td>0.053</td>\n",
       "      <td>0.686</td>\n",
       "    </tr>\n",
       "    <tr>\n",
       "      <th>866</th>\n",
       "      <td>If ur over 13 this movie will most definitely ...</td>\n",
       "      <td>-0.6637</td>\n",
       "      <td>0.155</td>\n",
       "      <td>0.184</td>\n",
       "      <td>0.661</td>\n",
       "    </tr>\n",
       "    <tr>\n",
       "      <th>867</th>\n",
       "      <td>Listen as a woman in her 20s I am all for femi...</td>\n",
       "      <td>-0.9274</td>\n",
       "      <td>0.114</td>\n",
       "      <td>0.187</td>\n",
       "      <td>0.699</td>\n",
       "    </tr>\n",
       "    <tr>\n",
       "      <th>868</th>\n",
       "      <td>Had so much more potential. This script was di...</td>\n",
       "      <td>-0.3894</td>\n",
       "      <td>0.132</td>\n",
       "      <td>0.129</td>\n",
       "      <td>0.739</td>\n",
       "    </tr>\n",
       "    <tr>\n",
       "      <th>869</th>\n",
       "      <td>The only reason this movie even gets a 2 from ...</td>\n",
       "      <td>0.7393</td>\n",
       "      <td>0.141</td>\n",
       "      <td>0.112</td>\n",
       "      <td>0.747</td>\n",
       "    </tr>\n",
       "    <tr>\n",
       "      <th>871</th>\n",
       "      <td>Im NOT a Barbie girl in NOT the Barbie World, ...</td>\n",
       "      <td>0.4098</td>\n",
       "      <td>0.095</td>\n",
       "      <td>0.074</td>\n",
       "      <td>0.831</td>\n",
       "    </tr>\n",
       "    <tr>\n",
       "      <th>873</th>\n",
       "      <td>Too many sexual references and doesnt grasp th...</td>\n",
       "      <td>-0.5793</td>\n",
       "      <td>0.050</td>\n",
       "      <td>0.070</td>\n",
       "      <td>0.880</td>\n",
       "    </tr>\n",
       "  </tbody>\n",
       "</table>\n",
       "</div>"
      ],
      "text/plain": [
       "                                                Review  V_Compound_Score  \\\n",
       "861  Barbie is not carrying any knowledgeable and i...            0.9322   \n",
       "862  Its true, any other movie wouldve been better....            0.9751   \n",
       "863  Ill preface by saying the movie is hilarious, ...            0.8279   \n",
       "864  Really good soundtracks and amazing cast, Marg...            0.9744   \n",
       "866  If ur over 13 this movie will most definitely ...           -0.6637   \n",
       "867  Listen as a woman in her 20s I am all for femi...           -0.9274   \n",
       "868  Had so much more potential. This script was di...           -0.3894   \n",
       "869  The only reason this movie even gets a 2 from ...            0.7393   \n",
       "871  Im NOT a Barbie girl in NOT the Barbie World, ...            0.4098   \n",
       "873  Too many sexual references and doesnt grasp th...           -0.5793   \n",
       "\n",
       "     V_Positive_Score  V_Negative_Score  V_Neutral_Score  \n",
       "861             0.147             0.063            0.790  \n",
       "862             0.226             0.027            0.747  \n",
       "863             0.145             0.093            0.763  \n",
       "864             0.261             0.053            0.686  \n",
       "866             0.155             0.184            0.661  \n",
       "867             0.114             0.187            0.699  \n",
       "868             0.132             0.129            0.739  \n",
       "869             0.141             0.112            0.747  \n",
       "871             0.095             0.074            0.831  \n",
       "873             0.050             0.070            0.880  "
      ]
     },
     "execution_count": 34,
     "metadata": {},
     "output_type": "execute_result"
    }
   ],
   "source": [
    "df.tail(10)"
   ]
  },
  {
   "cell_type": "markdown",
   "id": "ae206171",
   "metadata": {},
   "source": [
    "# Textblob model"
   ]
  },
  {
   "cell_type": "code",
   "execution_count": 35,
   "id": "e6da7231",
   "metadata": {},
   "outputs": [
    {
     "data": {
      "application/vnd.jupyter.widget-view+json": {
       "model_id": "5244a4c02e74463b8c897c6bb34ad804",
       "version_major": 2,
       "version_minor": 0
      },
      "text/plain": [
       "  0%|          | 0/662 [00:00<?, ?it/s]"
      ]
     },
     "metadata": {},
     "output_type": "display_data"
    }
   ],
   "source": [
    "from textblob import TextBlob\n",
    "from tqdm.notebook import tqdm\n",
    "\n",
    "textblob_scores = []\n",
    "\n",
    "for i, row in tqdm(df.iterrows(), total=len(df)):\n",
    "    text = row['Review']\n",
    "    blob = TextBlob(text)\n",
    "    textblob_scores.append(blob.sentiment.polarity)\n",
    "\n",
    "df['TextBlob_Score'] = textblob_scores"
   ]
  },
  {
   "cell_type": "code",
   "execution_count": 36,
   "id": "aa77b626",
   "metadata": {},
   "outputs": [
    {
     "data": {
      "text/html": [
       "<div>\n",
       "<style scoped>\n",
       "    .dataframe tbody tr th:only-of-type {\n",
       "        vertical-align: middle;\n",
       "    }\n",
       "\n",
       "    .dataframe tbody tr th {\n",
       "        vertical-align: top;\n",
       "    }\n",
       "\n",
       "    .dataframe thead th {\n",
       "        text-align: right;\n",
       "    }\n",
       "</style>\n",
       "<table border=\"1\" class=\"dataframe\">\n",
       "  <thead>\n",
       "    <tr style=\"text-align: right;\">\n",
       "      <th></th>\n",
       "      <th>Review</th>\n",
       "      <th>V_Compound_Score</th>\n",
       "      <th>V_Positive_Score</th>\n",
       "      <th>V_Negative_Score</th>\n",
       "      <th>V_Neutral_Score</th>\n",
       "      <th>TextBlob_Score</th>\n",
       "    </tr>\n",
       "  </thead>\n",
       "  <tbody>\n",
       "    <tr>\n",
       "      <th>0</th>\n",
       "      <td>Im just going to get straight to the point: I ...</td>\n",
       "      <td>0.8043</td>\n",
       "      <td>0.158</td>\n",
       "      <td>0.113</td>\n",
       "      <td>0.729</td>\n",
       "      <td>0.122956</td>\n",
       "    </tr>\n",
       "    <tr>\n",
       "      <th>1</th>\n",
       "      <td>Margot does the best with what shes given, but...</td>\n",
       "      <td>0.9235</td>\n",
       "      <td>0.200</td>\n",
       "      <td>0.127</td>\n",
       "      <td>0.674</td>\n",
       "      <td>0.103083</td>\n",
       "    </tr>\n",
       "    <tr>\n",
       "      <th>2</th>\n",
       "      <td>The first thing you need to know about Barbie ...</td>\n",
       "      <td>0.9959</td>\n",
       "      <td>0.179</td>\n",
       "      <td>0.066</td>\n",
       "      <td>0.755</td>\n",
       "      <td>0.197491</td>\n",
       "    </tr>\n",
       "    <tr>\n",
       "      <th>4</th>\n",
       "      <td>Wow, this movie was a love letter to cinema. F...</td>\n",
       "      <td>0.9629</td>\n",
       "      <td>0.171</td>\n",
       "      <td>0.080</td>\n",
       "      <td>0.749</td>\n",
       "      <td>0.101641</td>\n",
       "    </tr>\n",
       "    <tr>\n",
       "      <th>6</th>\n",
       "      <td>8.5/10 While im not so sure at first, the movi...</td>\n",
       "      <td>0.9987</td>\n",
       "      <td>0.329</td>\n",
       "      <td>0.040</td>\n",
       "      <td>0.632</td>\n",
       "      <td>0.323642</td>\n",
       "    </tr>\n",
       "    <tr>\n",
       "      <th>7</th>\n",
       "      <td>Barbie begins in an irresistible way, as a fun...</td>\n",
       "      <td>0.6486</td>\n",
       "      <td>0.140</td>\n",
       "      <td>0.078</td>\n",
       "      <td>0.782</td>\n",
       "      <td>0.232500</td>\n",
       "    </tr>\n",
       "    <tr>\n",
       "      <th>8</th>\n",
       "      <td>It pains me to say it, but I enjoyed this movi...</td>\n",
       "      <td>0.9986</td>\n",
       "      <td>0.404</td>\n",
       "      <td>0.038</td>\n",
       "      <td>0.558</td>\n",
       "      <td>0.329327</td>\n",
       "    </tr>\n",
       "    <tr>\n",
       "      <th>10</th>\n",
       "      <td>I was honestly doubting this movie at first, b...</td>\n",
       "      <td>0.9970</td>\n",
       "      <td>0.350</td>\n",
       "      <td>0.022</td>\n",
       "      <td>0.628</td>\n",
       "      <td>0.469345</td>\n",
       "    </tr>\n",
       "    <tr>\n",
       "      <th>13</th>\n",
       "      <td>Wow. I did not see this masterpiece coming. An...</td>\n",
       "      <td>0.9945</td>\n",
       "      <td>0.246</td>\n",
       "      <td>0.040</td>\n",
       "      <td>0.714</td>\n",
       "      <td>0.121222</td>\n",
       "    </tr>\n",
       "    <tr>\n",
       "      <th>14</th>\n",
       "      <td>I got free tickets for a preview and to be hon...</td>\n",
       "      <td>0.9919</td>\n",
       "      <td>0.198</td>\n",
       "      <td>0.024</td>\n",
       "      <td>0.777</td>\n",
       "      <td>0.264732</td>\n",
       "    </tr>\n",
       "  </tbody>\n",
       "</table>\n",
       "</div>"
      ],
      "text/plain": [
       "                                               Review  V_Compound_Score  \\\n",
       "0   Im just going to get straight to the point: I ...            0.8043   \n",
       "1   Margot does the best with what shes given, but...            0.9235   \n",
       "2   The first thing you need to know about Barbie ...            0.9959   \n",
       "4   Wow, this movie was a love letter to cinema. F...            0.9629   \n",
       "6   8.5/10 While im not so sure at first, the movi...            0.9987   \n",
       "7   Barbie begins in an irresistible way, as a fun...            0.6486   \n",
       "8   It pains me to say it, but I enjoyed this movi...            0.9986   \n",
       "10  I was honestly doubting this movie at first, b...            0.9970   \n",
       "13  Wow. I did not see this masterpiece coming. An...            0.9945   \n",
       "14  I got free tickets for a preview and to be hon...            0.9919   \n",
       "\n",
       "    V_Positive_Score  V_Negative_Score  V_Neutral_Score  TextBlob_Score  \n",
       "0              0.158             0.113            0.729        0.122956  \n",
       "1              0.200             0.127            0.674        0.103083  \n",
       "2              0.179             0.066            0.755        0.197491  \n",
       "4              0.171             0.080            0.749        0.101641  \n",
       "6              0.329             0.040            0.632        0.323642  \n",
       "7              0.140             0.078            0.782        0.232500  \n",
       "8              0.404             0.038            0.558        0.329327  \n",
       "10             0.350             0.022            0.628        0.469345  \n",
       "13             0.246             0.040            0.714        0.121222  \n",
       "14             0.198             0.024            0.777        0.264732  "
      ]
     },
     "execution_count": 36,
     "metadata": {},
     "output_type": "execute_result"
    }
   ],
   "source": [
    "df.head(10)"
   ]
  },
  {
   "cell_type": "markdown",
   "id": "7e5de10b",
   "metadata": {},
   "source": [
    "**We can clearly see that textblob does not do well**"
   ]
  },
  {
   "cell_type": "markdown",
   "id": "88e29e85",
   "metadata": {},
   "source": [
    "# Flair model"
   ]
  },
  {
   "cell_type": "code",
   "execution_count": 37,
   "id": "2cb220b2",
   "metadata": {},
   "outputs": [
    {
     "data": {
      "application/vnd.jupyter.widget-view+json": {
       "model_id": "677265016b1a422ca0c16e1e826e50c1",
       "version_major": 2,
       "version_minor": 0
      },
      "text/plain": [
       "  0%|          | 0/662 [00:00<?, ?it/s]"
      ]
     },
     "metadata": {},
     "output_type": "display_data"
    }
   ],
   "source": [
    "from flair.models import TextClassifier\n",
    "from flair.data import Sentence\n",
    "from tqdm.notebook import tqdm\n",
    "\n",
    "# Load the pre-trained Flair sentiment analysis model\n",
    "classifier = TextClassifier.load('en-sentiment')\n",
    "\n",
    "flair_scores = []\n",
    "\n",
    "for i, row in tqdm(df.iterrows(), total=len(df)):\n",
    "    text = row['Review']\n",
    "    sentence = Sentence(text)\n",
    "    classifier.predict(sentence)\n",
    "    flair_scores.append(sentence.labels[0].score)\n",
    "\n",
    "df['Flair_Score'] = flair_scores"
   ]
  },
  {
   "cell_type": "code",
   "execution_count": 38,
   "id": "5729e669",
   "metadata": {
    "scrolled": true
   },
   "outputs": [
    {
     "data": {
      "text/html": [
       "<div>\n",
       "<style scoped>\n",
       "    .dataframe tbody tr th:only-of-type {\n",
       "        vertical-align: middle;\n",
       "    }\n",
       "\n",
       "    .dataframe tbody tr th {\n",
       "        vertical-align: top;\n",
       "    }\n",
       "\n",
       "    .dataframe thead th {\n",
       "        text-align: right;\n",
       "    }\n",
       "</style>\n",
       "<table border=\"1\" class=\"dataframe\">\n",
       "  <thead>\n",
       "    <tr style=\"text-align: right;\">\n",
       "      <th></th>\n",
       "      <th>Review</th>\n",
       "      <th>V_Compound_Score</th>\n",
       "      <th>V_Positive_Score</th>\n",
       "      <th>V_Negative_Score</th>\n",
       "      <th>V_Neutral_Score</th>\n",
       "      <th>TextBlob_Score</th>\n",
       "      <th>Flair_Score</th>\n",
       "    </tr>\n",
       "  </thead>\n",
       "  <tbody>\n",
       "    <tr>\n",
       "      <th>0</th>\n",
       "      <td>Im just going to get straight to the point: I ...</td>\n",
       "      <td>0.8043</td>\n",
       "      <td>0.158</td>\n",
       "      <td>0.113</td>\n",
       "      <td>0.729</td>\n",
       "      <td>0.122956</td>\n",
       "      <td>0.999990</td>\n",
       "    </tr>\n",
       "    <tr>\n",
       "      <th>1</th>\n",
       "      <td>Margot does the best with what shes given, but...</td>\n",
       "      <td>0.9235</td>\n",
       "      <td>0.200</td>\n",
       "      <td>0.127</td>\n",
       "      <td>0.674</td>\n",
       "      <td>0.103083</td>\n",
       "      <td>0.999991</td>\n",
       "    </tr>\n",
       "    <tr>\n",
       "      <th>2</th>\n",
       "      <td>The first thing you need to know about Barbie ...</td>\n",
       "      <td>0.9959</td>\n",
       "      <td>0.179</td>\n",
       "      <td>0.066</td>\n",
       "      <td>0.755</td>\n",
       "      <td>0.197491</td>\n",
       "      <td>0.987642</td>\n",
       "    </tr>\n",
       "    <tr>\n",
       "      <th>4</th>\n",
       "      <td>Wow, this movie was a love letter to cinema. F...</td>\n",
       "      <td>0.9629</td>\n",
       "      <td>0.171</td>\n",
       "      <td>0.080</td>\n",
       "      <td>0.749</td>\n",
       "      <td>0.101641</td>\n",
       "      <td>0.924516</td>\n",
       "    </tr>\n",
       "    <tr>\n",
       "      <th>6</th>\n",
       "      <td>8.5/10 While im not so sure at first, the movi...</td>\n",
       "      <td>0.9987</td>\n",
       "      <td>0.329</td>\n",
       "      <td>0.040</td>\n",
       "      <td>0.632</td>\n",
       "      <td>0.323642</td>\n",
       "      <td>0.999972</td>\n",
       "    </tr>\n",
       "    <tr>\n",
       "      <th>7</th>\n",
       "      <td>Barbie begins in an irresistible way, as a fun...</td>\n",
       "      <td>0.6486</td>\n",
       "      <td>0.140</td>\n",
       "      <td>0.078</td>\n",
       "      <td>0.782</td>\n",
       "      <td>0.232500</td>\n",
       "      <td>0.999312</td>\n",
       "    </tr>\n",
       "    <tr>\n",
       "      <th>8</th>\n",
       "      <td>It pains me to say it, but I enjoyed this movi...</td>\n",
       "      <td>0.9986</td>\n",
       "      <td>0.404</td>\n",
       "      <td>0.038</td>\n",
       "      <td>0.558</td>\n",
       "      <td>0.329327</td>\n",
       "      <td>0.999911</td>\n",
       "    </tr>\n",
       "    <tr>\n",
       "      <th>10</th>\n",
       "      <td>I was honestly doubting this movie at first, b...</td>\n",
       "      <td>0.9970</td>\n",
       "      <td>0.350</td>\n",
       "      <td>0.022</td>\n",
       "      <td>0.628</td>\n",
       "      <td>0.469345</td>\n",
       "      <td>0.999982</td>\n",
       "    </tr>\n",
       "    <tr>\n",
       "      <th>13</th>\n",
       "      <td>Wow. I did not see this masterpiece coming. An...</td>\n",
       "      <td>0.9945</td>\n",
       "      <td>0.246</td>\n",
       "      <td>0.040</td>\n",
       "      <td>0.714</td>\n",
       "      <td>0.121222</td>\n",
       "      <td>0.999980</td>\n",
       "    </tr>\n",
       "    <tr>\n",
       "      <th>14</th>\n",
       "      <td>I got free tickets for a preview and to be hon...</td>\n",
       "      <td>0.9919</td>\n",
       "      <td>0.198</td>\n",
       "      <td>0.024</td>\n",
       "      <td>0.777</td>\n",
       "      <td>0.264732</td>\n",
       "      <td>0.999970</td>\n",
       "    </tr>\n",
       "  </tbody>\n",
       "</table>\n",
       "</div>"
      ],
      "text/plain": [
       "                                               Review  V_Compound_Score  \\\n",
       "0   Im just going to get straight to the point: I ...            0.8043   \n",
       "1   Margot does the best with what shes given, but...            0.9235   \n",
       "2   The first thing you need to know about Barbie ...            0.9959   \n",
       "4   Wow, this movie was a love letter to cinema. F...            0.9629   \n",
       "6   8.5/10 While im not so sure at first, the movi...            0.9987   \n",
       "7   Barbie begins in an irresistible way, as a fun...            0.6486   \n",
       "8   It pains me to say it, but I enjoyed this movi...            0.9986   \n",
       "10  I was honestly doubting this movie at first, b...            0.9970   \n",
       "13  Wow. I did not see this masterpiece coming. An...            0.9945   \n",
       "14  I got free tickets for a preview and to be hon...            0.9919   \n",
       "\n",
       "    V_Positive_Score  V_Negative_Score  V_Neutral_Score  TextBlob_Score  \\\n",
       "0              0.158             0.113            0.729        0.122956   \n",
       "1              0.200             0.127            0.674        0.103083   \n",
       "2              0.179             0.066            0.755        0.197491   \n",
       "4              0.171             0.080            0.749        0.101641   \n",
       "6              0.329             0.040            0.632        0.323642   \n",
       "7              0.140             0.078            0.782        0.232500   \n",
       "8              0.404             0.038            0.558        0.329327   \n",
       "10             0.350             0.022            0.628        0.469345   \n",
       "13             0.246             0.040            0.714        0.121222   \n",
       "14             0.198             0.024            0.777        0.264732   \n",
       "\n",
       "    Flair_Score  \n",
       "0      0.999990  \n",
       "1      0.999991  \n",
       "2      0.987642  \n",
       "4      0.924516  \n",
       "6      0.999972  \n",
       "7      0.999312  \n",
       "8      0.999911  \n",
       "10     0.999982  \n",
       "13     0.999980  \n",
       "14     0.999970  "
      ]
     },
     "execution_count": 38,
     "metadata": {},
     "output_type": "execute_result"
    }
   ],
   "source": [
    "df.head(10)"
   ]
  },
  {
   "cell_type": "markdown",
   "id": "184f88c7",
   "metadata": {},
   "source": [
    "**The Flair model performance is even worse than textblob**"
   ]
  },
  {
   "cell_type": "markdown",
   "id": "021a3ca2",
   "metadata": {},
   "source": [
    "**Therefore we can see that the vader model is the one which performs well, So we will use the vader model**"
   ]
  },
  {
   "cell_type": "code",
   "execution_count": 39,
   "id": "8de2a0d9",
   "metadata": {},
   "outputs": [
    {
     "data": {
      "text/plain": [
       "Index(['Review', 'V_Compound_Score', 'V_Positive_Score', 'V_Negative_Score',\n",
       "       'V_Neutral_Score', 'TextBlob_Score', 'Flair_Score'],\n",
       "      dtype='object')"
      ]
     },
     "execution_count": 39,
     "metadata": {},
     "output_type": "execute_result"
    }
   ],
   "source": [
    "df.columns"
   ]
  },
  {
   "cell_type": "code",
   "execution_count": 40,
   "id": "f9437d6f",
   "metadata": {},
   "outputs": [],
   "source": [
    "df=df.drop(columns=['V_Positive_Score', 'V_Negative_Score',\n",
    "       'V_Neutral_Score', 'TextBlob_Score', 'Flair_Score'])"
   ]
  },
  {
   "cell_type": "code",
   "execution_count": 41,
   "id": "54742db8",
   "metadata": {},
   "outputs": [
    {
     "data": {
      "text/html": [
       "<div>\n",
       "<style scoped>\n",
       "    .dataframe tbody tr th:only-of-type {\n",
       "        vertical-align: middle;\n",
       "    }\n",
       "\n",
       "    .dataframe tbody tr th {\n",
       "        vertical-align: top;\n",
       "    }\n",
       "\n",
       "    .dataframe thead th {\n",
       "        text-align: right;\n",
       "    }\n",
       "</style>\n",
       "<table border=\"1\" class=\"dataframe\">\n",
       "  <thead>\n",
       "    <tr style=\"text-align: right;\">\n",
       "      <th></th>\n",
       "      <th>Review</th>\n",
       "      <th>V_Compound_Score</th>\n",
       "    </tr>\n",
       "  </thead>\n",
       "  <tbody>\n",
       "    <tr>\n",
       "      <th>0</th>\n",
       "      <td>Im just going to get straight to the point: I ...</td>\n",
       "      <td>0.8043</td>\n",
       "    </tr>\n",
       "    <tr>\n",
       "      <th>1</th>\n",
       "      <td>Margot does the best with what shes given, but...</td>\n",
       "      <td>0.9235</td>\n",
       "    </tr>\n",
       "    <tr>\n",
       "      <th>2</th>\n",
       "      <td>The first thing you need to know about Barbie ...</td>\n",
       "      <td>0.9959</td>\n",
       "    </tr>\n",
       "    <tr>\n",
       "      <th>4</th>\n",
       "      <td>Wow, this movie was a love letter to cinema. F...</td>\n",
       "      <td>0.9629</td>\n",
       "    </tr>\n",
       "    <tr>\n",
       "      <th>6</th>\n",
       "      <td>8.5/10 While im not so sure at first, the movi...</td>\n",
       "      <td>0.9987</td>\n",
       "    </tr>\n",
       "  </tbody>\n",
       "</table>\n",
       "</div>"
      ],
      "text/plain": [
       "                                              Review  V_Compound_Score\n",
       "0  Im just going to get straight to the point: I ...            0.8043\n",
       "1  Margot does the best with what shes given, but...            0.9235\n",
       "2  The first thing you need to know about Barbie ...            0.9959\n",
       "4  Wow, this movie was a love letter to cinema. F...            0.9629\n",
       "6  8.5/10 While im not so sure at first, the movi...            0.9987"
      ]
     },
     "execution_count": 41,
     "metadata": {},
     "output_type": "execute_result"
    }
   ],
   "source": [
    "df.head()"
   ]
  },
  {
   "cell_type": "code",
   "execution_count": 42,
   "id": "2ceaec0f",
   "metadata": {},
   "outputs": [
    {
     "data": {
      "text/html": [
       "<div>\n",
       "<style scoped>\n",
       "    .dataframe tbody tr th:only-of-type {\n",
       "        vertical-align: middle;\n",
       "    }\n",
       "\n",
       "    .dataframe tbody tr th {\n",
       "        vertical-align: top;\n",
       "    }\n",
       "\n",
       "    .dataframe thead th {\n",
       "        text-align: right;\n",
       "    }\n",
       "</style>\n",
       "<table border=\"1\" class=\"dataframe\">\n",
       "  <thead>\n",
       "    <tr style=\"text-align: right;\">\n",
       "      <th></th>\n",
       "      <th>Review</th>\n",
       "      <th>Sentiment</th>\n",
       "    </tr>\n",
       "  </thead>\n",
       "  <tbody>\n",
       "    <tr>\n",
       "      <th>0</th>\n",
       "      <td>Im just going to get straight to the point: I ...</td>\n",
       "      <td>0.8043</td>\n",
       "    </tr>\n",
       "    <tr>\n",
       "      <th>1</th>\n",
       "      <td>Margot does the best with what shes given, but...</td>\n",
       "      <td>0.9235</td>\n",
       "    </tr>\n",
       "    <tr>\n",
       "      <th>2</th>\n",
       "      <td>The first thing you need to know about Barbie ...</td>\n",
       "      <td>0.9959</td>\n",
       "    </tr>\n",
       "    <tr>\n",
       "      <th>4</th>\n",
       "      <td>Wow, this movie was a love letter to cinema. F...</td>\n",
       "      <td>0.9629</td>\n",
       "    </tr>\n",
       "    <tr>\n",
       "      <th>6</th>\n",
       "      <td>8.5/10 While im not so sure at first, the movi...</td>\n",
       "      <td>0.9987</td>\n",
       "    </tr>\n",
       "    <tr>\n",
       "      <th>...</th>\n",
       "      <td>...</td>\n",
       "      <td>...</td>\n",
       "    </tr>\n",
       "    <tr>\n",
       "      <th>867</th>\n",
       "      <td>Listen as a woman in her 20s I am all for femi...</td>\n",
       "      <td>-0.9274</td>\n",
       "    </tr>\n",
       "    <tr>\n",
       "      <th>868</th>\n",
       "      <td>Had so much more potential. This script was di...</td>\n",
       "      <td>-0.3894</td>\n",
       "    </tr>\n",
       "    <tr>\n",
       "      <th>869</th>\n",
       "      <td>The only reason this movie even gets a 2 from ...</td>\n",
       "      <td>0.7393</td>\n",
       "    </tr>\n",
       "    <tr>\n",
       "      <th>871</th>\n",
       "      <td>Im NOT a Barbie girl in NOT the Barbie World, ...</td>\n",
       "      <td>0.4098</td>\n",
       "    </tr>\n",
       "    <tr>\n",
       "      <th>873</th>\n",
       "      <td>Too many sexual references and doesnt grasp th...</td>\n",
       "      <td>-0.5793</td>\n",
       "    </tr>\n",
       "  </tbody>\n",
       "</table>\n",
       "<p>662 rows × 2 columns</p>\n",
       "</div>"
      ],
      "text/plain": [
       "                                                Review  Sentiment\n",
       "0    Im just going to get straight to the point: I ...     0.8043\n",
       "1    Margot does the best with what shes given, but...     0.9235\n",
       "2    The first thing you need to know about Barbie ...     0.9959\n",
       "4    Wow, this movie was a love letter to cinema. F...     0.9629\n",
       "6    8.5/10 While im not so sure at first, the movi...     0.9987\n",
       "..                                                 ...        ...\n",
       "867  Listen as a woman in her 20s I am all for femi...    -0.9274\n",
       "868  Had so much more potential. This script was di...    -0.3894\n",
       "869  The only reason this movie even gets a 2 from ...     0.7393\n",
       "871  Im NOT a Barbie girl in NOT the Barbie World, ...     0.4098\n",
       "873  Too many sexual references and doesnt grasp th...    -0.5793\n",
       "\n",
       "[662 rows x 2 columns]"
      ]
     },
     "execution_count": 42,
     "metadata": {},
     "output_type": "execute_result"
    }
   ],
   "source": [
    "#Let's rename the column name as Sentiment\n",
    "df=df.rename({'V_Compound_Score':'Sentiment'},axis=1)\n",
    "df"
   ]
  },
  {
   "cell_type": "code",
   "execution_count": 43,
   "id": "26114414",
   "metadata": {},
   "outputs": [],
   "source": [
    "def sentiment(label):\n",
    "    if label <0.5:\n",
    "        return \"Negative\"\n",
    "    elif 0.5 <= label <= 0.72:\n",
    "        return \"Neutral\"\n",
    "    elif label>0.72:\n",
    "        return \"Positive\""
   ]
  },
  {
   "cell_type": "code",
   "execution_count": 44,
   "id": "3bb29083",
   "metadata": {},
   "outputs": [],
   "source": [
    "df['Sentiment'] = df['Sentiment'].apply(sentiment)"
   ]
  },
  {
   "cell_type": "code",
   "execution_count": 54,
   "id": "2b9fc8e8",
   "metadata": {
    "scrolled": false
   },
   "outputs": [
    {
     "data": {
      "text/html": [
       "<div>\n",
       "<style scoped>\n",
       "    .dataframe tbody tr th:only-of-type {\n",
       "        vertical-align: middle;\n",
       "    }\n",
       "\n",
       "    .dataframe tbody tr th {\n",
       "        vertical-align: top;\n",
       "    }\n",
       "\n",
       "    .dataframe thead th {\n",
       "        text-align: right;\n",
       "    }\n",
       "</style>\n",
       "<table border=\"1\" class=\"dataframe\">\n",
       "  <thead>\n",
       "    <tr style=\"text-align: right;\">\n",
       "      <th></th>\n",
       "      <th>Review</th>\n",
       "      <th>Sentiment</th>\n",
       "    </tr>\n",
       "  </thead>\n",
       "  <tbody>\n",
       "    <tr>\n",
       "      <th>0</th>\n",
       "      <td>Im just going to get straight to the point: I ...</td>\n",
       "      <td>Positive</td>\n",
       "    </tr>\n",
       "    <tr>\n",
       "      <th>1</th>\n",
       "      <td>Margot does the best with what shes given, but...</td>\n",
       "      <td>Positive</td>\n",
       "    </tr>\n",
       "    <tr>\n",
       "      <th>2</th>\n",
       "      <td>The first thing you need to know about Barbie ...</td>\n",
       "      <td>Positive</td>\n",
       "    </tr>\n",
       "    <tr>\n",
       "      <th>4</th>\n",
       "      <td>Wow, this movie was a love letter to cinema. F...</td>\n",
       "      <td>Positive</td>\n",
       "    </tr>\n",
       "    <tr>\n",
       "      <th>6</th>\n",
       "      <td>8.5/10 While im not so sure at first, the movi...</td>\n",
       "      <td>Positive</td>\n",
       "    </tr>\n",
       "    <tr>\n",
       "      <th>7</th>\n",
       "      <td>Barbie begins in an irresistible way, as a fun...</td>\n",
       "      <td>Neutral</td>\n",
       "    </tr>\n",
       "    <tr>\n",
       "      <th>8</th>\n",
       "      <td>It pains me to say it, but I enjoyed this movi...</td>\n",
       "      <td>Positive</td>\n",
       "    </tr>\n",
       "    <tr>\n",
       "      <th>10</th>\n",
       "      <td>I was honestly doubting this movie at first, b...</td>\n",
       "      <td>Positive</td>\n",
       "    </tr>\n",
       "    <tr>\n",
       "      <th>13</th>\n",
       "      <td>Wow. I did not see this masterpiece coming. An...</td>\n",
       "      <td>Positive</td>\n",
       "    </tr>\n",
       "    <tr>\n",
       "      <th>14</th>\n",
       "      <td>I got free tickets for a preview and to be hon...</td>\n",
       "      <td>Positive</td>\n",
       "    </tr>\n",
       "  </tbody>\n",
       "</table>\n",
       "</div>"
      ],
      "text/plain": [
       "                                               Review Sentiment\n",
       "0   Im just going to get straight to the point: I ...  Positive\n",
       "1   Margot does the best with what shes given, but...  Positive\n",
       "2   The first thing you need to know about Barbie ...  Positive\n",
       "4   Wow, this movie was a love letter to cinema. F...  Positive\n",
       "6   8.5/10 While im not so sure at first, the movi...  Positive\n",
       "7   Barbie begins in an irresistible way, as a fun...   Neutral\n",
       "8   It pains me to say it, but I enjoyed this movi...  Positive\n",
       "10  I was honestly doubting this movie at first, b...  Positive\n",
       "13  Wow. I did not see this masterpiece coming. An...  Positive\n",
       "14  I got free tickets for a preview and to be hon...  Positive"
      ]
     },
     "execution_count": 54,
     "metadata": {},
     "output_type": "execute_result"
    }
   ],
   "source": [
    "df.head(10)"
   ]
  },
  {
   "cell_type": "markdown",
   "id": "471fbd22",
   "metadata": {},
   "source": [
    "Yes, Finally done but we can see that in rare cases, the model doesn't predict the sentiment properly"
   ]
  },
  {
   "cell_type": "code",
   "execution_count": 46,
   "id": "8ca3aec0",
   "metadata": {
    "scrolled": false
   },
   "outputs": [
    {
     "data": {
      "text/html": [
       "<div>\n",
       "<style scoped>\n",
       "    .dataframe tbody tr th:only-of-type {\n",
       "        vertical-align: middle;\n",
       "    }\n",
       "\n",
       "    .dataframe tbody tr th {\n",
       "        vertical-align: top;\n",
       "    }\n",
       "\n",
       "    .dataframe thead th {\n",
       "        text-align: right;\n",
       "    }\n",
       "</style>\n",
       "<table border=\"1\" class=\"dataframe\">\n",
       "  <thead>\n",
       "    <tr style=\"text-align: right;\">\n",
       "      <th></th>\n",
       "      <th>Review</th>\n",
       "      <th>Sentiment</th>\n",
       "    </tr>\n",
       "  </thead>\n",
       "  <tbody>\n",
       "    <tr>\n",
       "      <th>7</th>\n",
       "      <td>Barbie begins in an irresistible way, as a fun...</td>\n",
       "      <td>Neutral</td>\n",
       "    </tr>\n",
       "    <tr>\n",
       "      <th>29</th>\n",
       "      <td>So I went into the movie with little to no exp...</td>\n",
       "      <td>Neutral</td>\n",
       "    </tr>\n",
       "    <tr>\n",
       "      <th>53</th>\n",
       "      <td>The brilliant marketing is what led us tonight...</td>\n",
       "      <td>Neutral</td>\n",
       "    </tr>\n",
       "    <tr>\n",
       "      <th>72</th>\n",
       "      <td>I really wanted to enjoy this and I know that ...</td>\n",
       "      <td>Neutral</td>\n",
       "    </tr>\n",
       "    <tr>\n",
       "      <th>83</th>\n",
       "      <td>I wanted to love this movie but it just wasnt ...</td>\n",
       "      <td>Neutral</td>\n",
       "    </tr>\n",
       "    <tr>\n",
       "      <th>93</th>\n",
       "      <td>My wife and I did the double feature of Barbie...</td>\n",
       "      <td>Neutral</td>\n",
       "    </tr>\n",
       "    <tr>\n",
       "      <th>228</th>\n",
       "      <td>Granted, my experience of Barbie may have been...</td>\n",
       "      <td>Neutral</td>\n",
       "    </tr>\n",
       "    <tr>\n",
       "      <th>352</th>\n",
       "      <td>Barbie is a curious film, and I believe that t...</td>\n",
       "      <td>Neutral</td>\n",
       "    </tr>\n",
       "    <tr>\n",
       "      <th>357</th>\n",
       "      <td>I expected this movie to be more lighthearted ...</td>\n",
       "      <td>Neutral</td>\n",
       "    </tr>\n",
       "    <tr>\n",
       "      <th>378</th>\n",
       "      <td>Wow, this was really bad. Here is the truth. I...</td>\n",
       "      <td>Neutral</td>\n",
       "    </tr>\n",
       "    <tr>\n",
       "      <th>504</th>\n",
       "      <td>Just as they did with White Noise (based on a ...</td>\n",
       "      <td>Neutral</td>\n",
       "    </tr>\n",
       "    <tr>\n",
       "      <th>582</th>\n",
       "      <td>Before I start this review, let me start by sa...</td>\n",
       "      <td>Neutral</td>\n",
       "    </tr>\n",
       "    <tr>\n",
       "      <th>605</th>\n",
       "      <td>Yes, this film receives my seal of being a yes...</td>\n",
       "      <td>Neutral</td>\n",
       "    </tr>\n",
       "    <tr>\n",
       "      <th>625</th>\n",
       "      <td>I must admit, growing up Ive had complicated f...</td>\n",
       "      <td>Neutral</td>\n",
       "    </tr>\n",
       "    <tr>\n",
       "      <th>632</th>\n",
       "      <td>Hilarious, fun, poignant, smart, and satirical...</td>\n",
       "      <td>Neutral</td>\n",
       "    </tr>\n",
       "    <tr>\n",
       "      <th>666</th>\n",
       "      <td>A confused, misfiring, tedious and pretentious...</td>\n",
       "      <td>Neutral</td>\n",
       "    </tr>\n",
       "    <tr>\n",
       "      <th>705</th>\n",
       "      <td>This thought-provoking movie is definitely not...</td>\n",
       "      <td>Neutral</td>\n",
       "    </tr>\n",
       "    <tr>\n",
       "      <th>750</th>\n",
       "      <td>I was expecting so much maybe.  The only thing...</td>\n",
       "      <td>Neutral</td>\n",
       "    </tr>\n",
       "    <tr>\n",
       "      <th>776</th>\n",
       "      <td>I take it the sales of Barbie and Ken have plu...</td>\n",
       "      <td>Neutral</td>\n",
       "    </tr>\n",
       "    <tr>\n",
       "      <th>794</th>\n",
       "      <td>Salute to the marketing department for creatin...</td>\n",
       "      <td>Neutral</td>\n",
       "    </tr>\n",
       "    <tr>\n",
       "      <th>811</th>\n",
       "      <td>This movie was awful and definitely not kid fr...</td>\n",
       "      <td>Neutral</td>\n",
       "    </tr>\n",
       "    <tr>\n",
       "      <th>822</th>\n",
       "      <td>Boring uninteresting movie, it was fun at the ...</td>\n",
       "      <td>Neutral</td>\n",
       "    </tr>\n",
       "  </tbody>\n",
       "</table>\n",
       "</div>"
      ],
      "text/plain": [
       "                                                Review Sentiment\n",
       "7    Barbie begins in an irresistible way, as a fun...   Neutral\n",
       "29   So I went into the movie with little to no exp...   Neutral\n",
       "53   The brilliant marketing is what led us tonight...   Neutral\n",
       "72   I really wanted to enjoy this and I know that ...   Neutral\n",
       "83   I wanted to love this movie but it just wasnt ...   Neutral\n",
       "93   My wife and I did the double feature of Barbie...   Neutral\n",
       "228  Granted, my experience of Barbie may have been...   Neutral\n",
       "352  Barbie is a curious film, and I believe that t...   Neutral\n",
       "357  I expected this movie to be more lighthearted ...   Neutral\n",
       "378  Wow, this was really bad. Here is the truth. I...   Neutral\n",
       "504  Just as they did with White Noise (based on a ...   Neutral\n",
       "582  Before I start this review, let me start by sa...   Neutral\n",
       "605  Yes, this film receives my seal of being a yes...   Neutral\n",
       "625  I must admit, growing up Ive had complicated f...   Neutral\n",
       "632  Hilarious, fun, poignant, smart, and satirical...   Neutral\n",
       "666  A confused, misfiring, tedious and pretentious...   Neutral\n",
       "705  This thought-provoking movie is definitely not...   Neutral\n",
       "750  I was expecting so much maybe.  The only thing...   Neutral\n",
       "776  I take it the sales of Barbie and Ken have plu...   Neutral\n",
       "794  Salute to the marketing department for creatin...   Neutral\n",
       "811  This movie was awful and definitely not kid fr...   Neutral\n",
       "822  Boring uninteresting movie, it was fun at the ...   Neutral"
      ]
     },
     "execution_count": 46,
     "metadata": {},
     "output_type": "execute_result"
    }
   ],
   "source": [
    "df[df[\"Sentiment\"]==\"Neutral\"]"
   ]
  },
  {
   "cell_type": "code",
   "execution_count": 52,
   "id": "60db4fb8",
   "metadata": {
    "scrolled": true
   },
   "outputs": [
    {
     "data": {
      "text/plain": [
       "'This thought-provoking movie is definitely not geared towards children or exclusively for girls; its a must-watch for audiences of all backgrounds. It addresses delicate and fragile topics with precision. It was surprising and totally unexpected. Admittedly, the first half an hour is hard to get through, but you really get into it once you get the idea and youre totally consumed in it and already questioning yourself and the society before you realise. However, they could have concluded it better by finding a middle ground or presenting a solution to the problems addressed. Nevertheless, its overall impact makes it a must-see for everyone.'"
      ]
     },
     "execution_count": 52,
     "metadata": {},
     "output_type": "execute_result"
    }
   ],
   "source": [
    "df[\"Review\"][705]"
   ]
  },
  {
   "cell_type": "markdown",
   "id": "f16302f4",
   "metadata": {},
   "source": [
    "**Wow, the vader model used is pretty good, the sentiments are on point except a very few**"
   ]
  },
  {
   "cell_type": "code",
   "execution_count": 53,
   "id": "81210940",
   "metadata": {},
   "outputs": [
    {
     "data": {
      "image/png": "[encoded data removed]",
      "text/plain": [
       "<Figure size 800x600 with 1 Axes>"
      ]
     },
     "metadata": {},
     "output_type": "display_data"
    }
   ],
   "source": [
    "import matplotlib.pyplot as plt\n",
    "\n",
    "\n",
    "value_counts = df['Sentiment'].value_counts()\n",
    "\n",
    "plt.figure(figsize=(8, 6))\n",
    "bars = plt.bar(value_counts.index, value_counts.values, color='pink')\n",
    "\n",
    "for bar in bars:\n",
    "    height = bar.get_height()\n",
    "    plt.text(bar.get_x() + bar.get_width() / 2, height, str(height), ha='center', va='bottom')\n",
    "\n",
    "plt.xlabel('Sentiment')\n",
    "plt.ylabel('Count')\n",
    "plt.title('Barbie Sentiment Distribution')\n",
    "plt.xticks(rotation=0)\n",
    "\n",
    "plt.tight_layout()\n",
    "plt.show()\n"
   ]
  },
  {
   "cell_type": "markdown",
   "id": "143395ca",
   "metadata": {},
   "source": [
    "In this bar chart, we can see that the movie **\"Barbie\"** have more **Postive** reviews"
   ]
  }
 ],
 "metadata": {
  "kernelspec": {
   "display_name": "Python 3 (ipykernel)",
   "language": "python",
   "name": "python3"
  },
  "language_info": {
   "codemirror_mode": {
    "name": "ipython",
    "version": 3
   },
   "file_extension": ".py",
   "mimetype": "text/x-python",
   "name": "python",
   "nbconvert_exporter": "python",
   "pygments_lexer": "ipython3",
   "version": "3.11.4"
  }
 },
 "nbformat": 4,
 "nbformat_minor": 5
}
